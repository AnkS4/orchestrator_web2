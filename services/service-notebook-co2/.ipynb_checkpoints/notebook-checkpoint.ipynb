{
 "cells": [
  {
   "cell_type": "markdown",
   "id": "0d1838ad",
   "metadata": {},
   "source": [
    "# Default notebook\n",
    "\n",
    "This notebook shows the default things that you can do with a notebook. Feel free to modify it as you need!"
   ]
  },
  {
   "cell_type": "code",
   "execution_count": null,
   "id": "5228c6bd",
   "metadata": {},
   "outputs": [],
   "source": [
    "from IPython.display import YouTubeVideo\n",
    "\n",
    "video = YouTubeVideo('433-nmcWw8E')"
   ]
  }
 ],
 "metadata": {
  "language_info": {
   "name": "python"
  }
 },
 "nbformat": 4,
 "nbformat_minor": 5
}
